{
  "nbformat": 4,
  "nbformat_minor": 0,
  "metadata": {
    "colab": {
      "provenance": []
    },
    "kernelspec": {
      "name": "python3",
      "display_name": "Python 3"
    },
    "language_info": {
      "name": "python"
    }
  },
  "cells": [
    {
      "cell_type": "markdown",
      "source": [
        "Training of Ml model for prediction using logisticRegression\n"
      ],
      "metadata": {
        "id": "oGtwpaQlxATw"
      }
    },
    {
      "cell_type": "code",
      "execution_count": null,
      "metadata": {
        "colab": {
          "base_uri": "https://localhost:8080/"
        },
        "id": "JwrWeSX3dp3y",
        "outputId": "414b7259-1028-4d2d-ac16-2390d6c050d4"
      },
      "outputs": [
        {
          "output_type": "execute_result",
          "data": {
            "text/plain": [
              "['purchase_model.pkl']"
            ]
          },
          "metadata": {},
          "execution_count": 1
        }
      ],
      "source": [
        "from sklearn.linear_model import LogisticRegression\n",
        "import numpy as np\n",
        "import joblib\n",
        "\n",
        "# Toy data: [age, salary] -> will purchase (1) or not (0)\n",
        "X = np.array([\n",
        "    [22, 15000],\n",
        "    [25, 18000],\n",
        "    [30, 25000],\n",
        "    [35, 40000],\n",
        "    [40, 50000],\n",
        "    [50, 60000]\n",
        "])\n",
        "y = np.array([0, 0, 1, 1, 1, 1])\n",
        "\n",
        "model = LogisticRegression()\n",
        "model.fit(X, y)\n",
        "\n",
        "joblib.dump(model, \"purchase_model.pkl\")"
      ]
    },
    {
      "cell_type": "markdown",
      "source": [
        "FastAPI for posting model"
      ],
      "metadata": {
        "id": "Ceo1kQKxxM7G"
      }
    },
    {
      "cell_type": "code",
      "source": [
        "%%writefile main.py\n",
        "from fastapi import FastAPI\n",
        "from pydantic import BaseModel\n",
        "import joblib\n",
        "import numpy as np\n",
        "\n",
        "app = FastAPI()\n",
        "\n",
        "# Load trained model\n",
        "model = joblib.load(\"purchase_model.pkl\")\n",
        "\n",
        "class UserData(BaseModel):\n",
        "    age: float\n",
        "    salary: float\n",
        "\n",
        "@app.post(\"/predict\")\n",
        "def predict(data: UserData):\n",
        "    features = np.array([[data.age, data.salary]])\n",
        "    prediction = model.predict(features)\n",
        "    return {\"prediction\": int(prediction[0])}"
      ],
      "metadata": {
        "colab": {
          "base_uri": "https://localhost:8080/"
        },
        "id": "TxNu49vSfBZ1",
        "outputId": "296a5e6d-e07a-40cc-9ebc-09529417d233"
      },
      "execution_count": null,
      "outputs": [
        {
          "output_type": "stream",
          "name": "stdout",
          "text": [
            "Writing main.py\n"
          ]
        }
      ]
    },
    {
      "cell_type": "markdown",
      "source": [
        "Use pyngrok for hosting this api on server while using google colab"
      ],
      "metadata": {
        "id": "eL_zd-lMxVVP"
      }
    },
    {
      "cell_type": "code",
      "source": [
        "!pip install pyngrok"
      ],
      "metadata": {
        "colab": {
          "base_uri": "https://localhost:8080/"
        },
        "id": "Zl2o8Ghx1vU_",
        "outputId": "c430cd65-d6e3-49bd-ca3b-edc1be20bfdb"
      },
      "execution_count": null,
      "outputs": [
        {
          "output_type": "stream",
          "name": "stdout",
          "text": [
            "Collecting pyngrok\n",
            "  Downloading pyngrok-7.2.12-py3-none-any.whl.metadata (9.4 kB)\n",
            "Requirement already satisfied: PyYAML>=5.1 in /usr/local/lib/python3.11/dist-packages (from pyngrok) (6.0.2)\n",
            "Downloading pyngrok-7.2.12-py3-none-any.whl (26 kB)\n",
            "Installing collected packages: pyngrok\n",
            "Successfully installed pyngrok-7.2.12\n"
          ]
        }
      ]
    },
    {
      "cell_type": "code",
      "source": [
        "!ngrok config add-authtoken your-authtoken\n"
      ],
      "metadata": {
        "colab": {
          "base_uri": "https://localhost:8080/"
        },
        "id": "yiuFt9Mj2e54",
        "outputId": "2a6df716-3098-4708-af4d-9a2d77846490"
      },
      "execution_count": null,
      "outputs": [
        {
          "output_type": "stream",
          "name": "stdout",
          "text": [
            "Authtoken saved to configuration file: /root/.config/ngrok/ngrok.yml\n"
          ]
        }
      ]
    },
    {
      "cell_type": "code",
      "source": [
        "from pyngrok import ngrok\n",
        "\n",
        "public_url = ngrok.connect(8000)\n",
        "print(\"Public URL:\", public_url)\n"
      ],
      "metadata": {
        "colab": {
          "base_uri": "https://localhost:8080/"
        },
        "id": "Bm_YFFNB1l3W",
        "outputId": "164554c3-a4c9-410f-92d1-dfed36583a75"
      },
      "execution_count": null,
      "outputs": [
        {
          "output_type": "stream",
          "name": "stdout",
          "text": [
            "Public URL: NgrokTunnel: \"https://9081cad788ef.ngrok-free.app\" -> \"http://localhost:8000\"\n"
          ]
        }
      ]
    },
    {
      "cell_type": "code",
      "source": [],
      "metadata": {
        "id": "NZW4Q_HX0yv7"
      },
      "execution_count": null,
      "outputs": []
    }
  ]
}